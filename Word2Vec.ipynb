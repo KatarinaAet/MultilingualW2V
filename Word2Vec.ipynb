{
 "cells": [
  {
   "cell_type": "code",
   "execution_count": 1,
   "metadata": {},
   "outputs": [],
   "source": [
    "#получение двух файлов с данными(на русском и английском) из текстового корпуса\n",
    "import xml.etree.ElementTree as ET\n",
    "tree = ET.parse('en-ru(1).xml')\n",
    "root = tree.getroot()\n",
    "f = open('text2.txt', 'w')"
   ]
  },
  {
   "cell_type": "code",
   "execution_count": 2,
   "metadata": {},
   "outputs": [],
   "source": [
    "for child in root:\n",
    "    for subchild in child.iter('seg'):\n",
    "        f.write (subchild.text)\n",
    "        f.write('\\n')\n",
    "f.close()"
   ]
  },
  {
   "cell_type": "code",
   "execution_count": 3,
   "metadata": {},
   "outputs": [],
   "source": [
    "file = open('text2.txt', 'r')\n",
    "file_en = open('text2_en.txt', 'w')\n",
    "file_ru = open('text2_ru.txt', 'w')\n",
    "line = file.readline()\n",
    "i = 0\n",
    "while line:\n",
    "    if i%2 == 0:\n",
    "        file_en.write(line)\n",
    "        file_en.write('\\n')\n",
    "    else:\n",
    "        file_ru.write(line)\n",
    "        file_ru.write('\\n')\n",
    "    line = file.readline()\n",
    "    i = i+1\n",
    "file.close()\n",
    "file_en.close()\n",
    "file_ru.close()"
   ]
  },
  {
   "cell_type": "code",
   "execution_count": null,
   "metadata": {},
   "outputs": [],
   "source": [
    "#далее при помощи библиотеки fasttext получаем векторное представление предложений, делаем следующие действия:\n",
    "#0. Обучаем модель: ./\n",
    "#1. cd fastText\n",
    "#2. ./fasttext print-sentence-vectors model.bin < text_test_en > output2_en - \n",
    "# выводим в output2_en вектора для предложений из text_test_en на основе заранее тренированной модели model.bin "
   ]
  },
  {
   "cell_type": "code",
   "execution_count": 2,
   "metadata": {},
   "outputs": [
    {
     "name": "stdout",
     "output_type": "stream",
     "text": [
      "[[-0.058817  0.065694 -0.069966 ...,  0.13624  -0.1546   -0.085428]\n",
      " [ 0.        0.        0.       ...,  0.        0.        0.      ]\n",
      " [-0.12101  -0.039981 -0.049526 ...,  0.11853  -0.17444  -0.050421]\n",
      " ..., \n",
      " [ 0.        0.        0.       ...,  0.        0.        0.      ]\n",
      " [-0.096215 -0.04697  -0.067605 ...,  0.05636  -0.11189  -0.057439]\n",
      " [ 0.        0.        0.       ...,  0.        0.        0.      ]]\n",
      "(34510, 100)\n"
     ]
    }
   ],
   "source": [
    "#получаем лист из векторов для русских слов\n",
    "import numpy as np\n",
    "import re\n",
    "import json\n",
    "f = open(\"output2_ru\", \"r\")   \n",
    "rus = np.loadtxt(f, dtype=np.float)\n",
    "print(rus)    \n",
    "print (rus.shape)"
   ]
  },
  {
   "cell_type": "code",
   "execution_count": 3,
   "metadata": {},
   "outputs": [
    {
     "name": "stdout",
     "output_type": "stream",
     "text": [
      "[[ 0.1167     -0.064719   -0.00024873 ...,  0.12594     0.024676   -0.051659  ]\n",
      " [ 0.          0.          0.         ...,  0.          0.          0.        ]\n",
      " [ 0.069616    0.093813   -0.046783   ...,  0.13331    -0.036445   -0.090356  ]\n",
      " ..., \n",
      " [ 0.          0.          0.         ...,  0.          0.          0.        ]\n",
      " [ 0.093333    0.00094978 -0.012536   ...,  0.048184   -0.01475    -0.021936  ]\n",
      " [ 0.          0.          0.         ...,  0.          0.          0.        ]]\n",
      "(34510, 100)\n"
     ]
    }
   ],
   "source": [
    "#для английских слов\n",
    "import re\n",
    "import json\n",
    "import numpy as np\n",
    "f = open(\"output2_en\", \"r\")\n",
    "en = np.loadtxt(f, dtype=np.float)\n",
    "print (en)\n",
    "print(en.shape)"
   ]
  },
  {
   "cell_type": "code",
   "execution_count": 30,
   "metadata": {},
   "outputs": [
    {
     "name": "stdout",
     "output_type": "stream",
     "text": [
      "Train on 18496 samples, validate on 4625 samples\n",
      "Epoch 1/15\n",
      " - 3s - loss: 9.9984e-04 - val_loss: 3.7279e-04\n",
      "\n",
      "Epoch 00001: val_loss improved from inf to 0.00037, saving model to /home/ekaterina/documents/Python/weights.hdf5\n",
      "Epoch 2/15\n",
      " - 2s - loss: 3.5254e-04 - val_loss: 3.6175e-04\n",
      "\n",
      "Epoch 00002: val_loss improved from 0.00037 to 0.00036, saving model to /home/ekaterina/documents/Python/weights.hdf5\n",
      "Epoch 3/15\n",
      " - 2s - loss: 3.3309e-04 - val_loss: 3.5354e-04\n",
      "\n",
      "Epoch 00003: val_loss improved from 0.00036 to 0.00035, saving model to /home/ekaterina/documents/Python/weights.hdf5\n",
      "Epoch 4/15\n",
      " - 2s - loss: 3.2011e-04 - val_loss: 3.3423e-04\n",
      "\n",
      "Epoch 00004: val_loss improved from 0.00035 to 0.00033, saving model to /home/ekaterina/documents/Python/weights.hdf5\n",
      "Epoch 5/15\n",
      " - 2s - loss: 3.1052e-04 - val_loss: 3.2051e-04\n",
      "\n",
      "Epoch 00005: val_loss improved from 0.00033 to 0.00032, saving model to /home/ekaterina/documents/Python/weights.hdf5\n",
      "Epoch 6/15\n",
      " - 2s - loss: 3.0647e-04 - val_loss: 3.2210e-04\n",
      "\n",
      "Epoch 00006: val_loss did not improve\n",
      "Epoch 7/15\n",
      " - 2s - loss: 3.0319e-04 - val_loss: 3.1881e-04\n",
      "\n",
      "Epoch 00007: val_loss improved from 0.00032 to 0.00032, saving model to /home/ekaterina/documents/Python/weights.hdf5\n",
      "Epoch 8/15\n",
      " - 2s - loss: 2.9978e-04 - val_loss: 3.1608e-04\n",
      "\n",
      "Epoch 00008: val_loss improved from 0.00032 to 0.00032, saving model to /home/ekaterina/documents/Python/weights.hdf5\n",
      "Epoch 9/15\n",
      " - 2s - loss: 2.9624e-04 - val_loss: 3.1111e-04\n",
      "\n",
      "Epoch 00009: val_loss improved from 0.00032 to 0.00031, saving model to /home/ekaterina/documents/Python/weights.hdf5\n",
      "Epoch 10/15\n",
      " - 2s - loss: 2.9339e-04 - val_loss: 3.1336e-04\n",
      "\n",
      "Epoch 00010: val_loss did not improve\n",
      "Epoch 11/15\n",
      " - 2s - loss: 2.9126e-04 - val_loss: 3.0847e-04\n",
      "\n",
      "Epoch 00011: val_loss improved from 0.00031 to 0.00031, saving model to /home/ekaterina/documents/Python/weights.hdf5\n",
      "Epoch 12/15\n",
      " - 2s - loss: 2.8917e-04 - val_loss: 3.1166e-04\n",
      "\n",
      "Epoch 00012: val_loss did not improve\n",
      "Epoch 13/15\n",
      " - 2s - loss: 2.8763e-04 - val_loss: 3.0069e-04\n",
      "\n",
      "Epoch 00013: val_loss improved from 0.00031 to 0.00030, saving model to /home/ekaterina/documents/Python/weights.hdf5\n",
      "Epoch 14/15\n",
      " - 2s - loss: 2.8623e-04 - val_loss: 3.0424e-04\n",
      "\n",
      "Epoch 00014: val_loss did not improve\n",
      "Epoch 15/15\n",
      " - 2s - loss: 2.8466e-04 - val_loss: 3.0070e-04\n",
      "\n",
      "Epoch 00015: val_loss did not improve\n"
     ]
    }
   ],
   "source": [
    "from sklearn.cross_validation import train_test_split\n",
    "from keras.models import Sequential\n",
    "from keras.layers import Dense, Activation\n",
    "from keras.callbacks import ModelCheckpoint\n",
    "from keras.callbacks import EarlyStopping\n",
    "x_train, x_test, y_train, y_test = train_test_split(rus, en, test_size=0.33, random_state=42)\n",
    "model = Sequential()\n",
    "model.add(Dense(32, input_dim=100, activation='relu'))\n",
    "model.add(Dense(32, activation='sigmoid'))\n",
    "model.add(Dense(32, activation='sigmoid'))\n",
    "model.add(Dense(100, activation='tanh'))\n",
    "model.compile(loss=\"mse\", optimizer=\"rmsprop\")\n",
    "filepath = \"/home/ekaterina/documents/Python/weights.hdf5\"\n",
    "checkpoint = ModelCheckpoint(filepath, monitor='val_loss', verbose = 1, save_best_only=True, mode='min')\n",
    "earlystop = EarlyStopping(monitor='val_loss', patience = 3, verbose = 2)\n",
    "callbacks_list = [checkpoint, earlystop]\n",
    "history = model.fit(x_train, y_train, validation_split=0.2, epochs=15 ,batch_size=10, callbacks = callbacks_list,verbose=2)\n",
    "predictions = model.predict(x_test)\n"
   ]
  },
  {
   "cell_type": "code",
   "execution_count": 31,
   "metadata": {},
   "outputs": [
    {
     "data": {
      "image/png": "[encoded data removed]",
      "text/plain": [
       "<matplotlib.figure.Figure at 0x7feaa6271a58>"
      ]
     },
     "metadata": {},
     "output_type": "display_data"
    }
   ],
   "source": [
    "import matplotlib.pyplot as plt\n",
    "x = np.arange(1, 16, 1)\n",
    "y = np.array(history.history['val_loss'])\n",
    "plt.plot(x,y)\n",
    "plt.xlabel(r'$epochs$')\n",
    "plt.ylabel(r'$val_loss$')\n",
    "plt.grid(True)\n",
    "plt.show()"
   ]
  },
  {
   "cell_type": "code",
   "execution_count": null,
   "metadata": {},
   "outputs": [],
   "source": []
  }
 ],
 "metadata": {
  "kernelspec": {
   "display_name": "Python 3",
   "language": "python",
   "name": "python3"
  },
  "language_info": {
   "codemirror_mode": {
    "name": "ipython",
    "version": 3
   },
   "file_extension": ".py",
   "mimetype": "text/x-python",
   "name": "python",
   "nbconvert_exporter": "python",
   "pygments_lexer": "ipython3",
   "version": "3.6.4"
  }
 },
 "nbformat": 4,
 "nbformat_minor": 2
}
